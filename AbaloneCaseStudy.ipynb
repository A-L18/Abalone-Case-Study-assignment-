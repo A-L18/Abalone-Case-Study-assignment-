{
 "cells": [
  {
   "cell_type": "code",
   "execution_count": 1,
   "id": "3fa1fa56",
   "metadata": {},
   "outputs": [],
   "source": [
    "import matplotlib.pyplot as plt\n",
    "import numpy as np\n",
    "import pandas as pd\n",
    "%matplotlib inline"
   ]
  },
  {
   "cell_type": "code",
   "execution_count": null,
   "id": "5327107e",
   "metadata": {},
   "outputs": [],
   "source": [
    "column_names = [\"sex\", \"length\", \"diameter\", \"height\", \"whole weight\", \n",
    "                \"shucked weight\", \"viscera weight\", \"shell weight\", \"rings\"]\n",
    "data = pd.read_csv(\"abalone.data\", names=column_names)\n",
    "print(\"Number of samples: %d\" % len(data))\n",
    "data.head()"
   ]
  },
  {
   "cell_type": "code",
   "execution_count": null,
   "id": "4221f8ce",
   "metadata": {},
   "outputs": [],
   "source": [
    "for label in \"MFI\":\n",
    "    data[label] = data[\"sex\"] == label\n",
    "del data[\"sex\"]"
   ]
  },
  {
   "cell_type": "code",
   "execution_count": null,
   "id": "52fbb3b7",
   "metadata": {},
   "outputs": [],
   "source": [
    "data.head()\n"
   ]
  },
  {
   "cell_type": "code",
   "execution_count": null,
   "id": "996d62fd",
   "metadata": {},
   "outputs": [],
   "source": [
    "y = data.rings.values\n"
   ]
  },
  {
   "cell_type": "code",
   "execution_count": null,
   "id": "2b71f8ec",
   "metadata": {},
   "outputs": [],
   "source": [
    "del data[\"rings\"]\n",
    "X = data.values.astype(np.float)"
   ]
  },
  {
   "cell_type": "code",
   "execution_count": null,
   "id": "721b39f1",
   "metadata": {},
   "outputs": [],
   "source": [
    "from sklearn import cross_validation\n",
    "train_X, test_X, train_y, test_y = cross_validation.train_test_split(X, y)"
   ]
  },
  {
   "cell_type": "code",
   "execution_count": null,
   "id": "866b499a",
   "metadata": {},
   "outputs": [],
   "source": [
    "from sklearn.tree import DecisionTreeRegressor\n",
    "model = DecisionTreeRegressor()\n",
    "model.fit(train_X, train_y)\n",
    "predicted_test_y = model.predict(test_X)\n",
    "predicted_train_y = model.predict(train_X)"
   ]
  },
  {
   "cell_type": "code",
   "execution_count": null,
   "id": "88f96298",
   "metadata": {},
   "outputs": [],
   "source": [
    "def scatter_y(true_y, predicted_y):\n",
    "    \"\"\"Scatter-plot the predicted vs true number of rings\n",
    "    Plots:\n",
    "       * predicted vs true number of rings\n",
    "       * perfect agreement line\n",
    "       * +2/-2 number dotted lines\n",
    "      Returns the root mean square of the error\n",
    "    \"\"\"\n",
    "    fig, ax = plt.subplots(figsize=(8, 8))\n",
    "    ax.plot(true_y, predicted_y, '.k')\n",
    "    \n",
    "    ax.plot([0, 30], [0, 30], '--k')\n",
    "    ax.plot([0, 30], [2, 32], ':k')\n",
    "    ax.plot([2, 32], [0, 30], ':k')\n",
    "    \n",
    "    rms = (true_y - predicted_y).std()\n",
    "    \n",
    "    ax.text(25, 3,\n",
    "            \"Root Mean Square Error = %.2g\" % rms,\n",
    "            ha='right', va='bottom')\n",
    "\n",
    "    ax.set_xlim(0, 30)\n",
    "    ax.set_ylim(0, 30)\n",
    "    \n",
    "    ax.set_xlabel('True number of rings')\n",
    "    ax.set_ylabel('Predicted number of rings')\n",
    "    \n",
    "    return rms"
   ]
  },
  {
   "cell_type": "code",
   "execution_count": null,
   "id": "f7ea5cdd",
   "metadata": {},
   "outputs": [],
   "source": [
    "scatter_y(train_y, predicted_train_y)\n",
    "plt.title(\"Training data\")\n",
    "scatter_y(test_y, predicted_test_y)\n",
    "plt.title(\"Test data\");"
   ]
  },
  {
   "cell_type": "code",
   "execution_count": null,
   "id": "5a621193",
   "metadata": {},
   "outputs": [],
   "source": [
    "\n",
    "model = DecisionTreeRegressor(max_depth=10)\n",
    "model.fit(train_X, train_y)\n",
    "predicted_test_y = model.predict(test_X)\n",
    "predicted_train_y = model.predict(train_X)"
   ]
  },
  {
   "cell_type": "code",
   "execution_count": null,
   "id": "63572af9",
   "metadata": {},
   "outputs": [],
   "source": [
    "scatter_y(train_y, predicted_train_y)\n",
    "plt.title(\"Training data\")\n",
    "rms_decision_tree = scatter_y(test_y, predicted_test_y)\n",
    "plt.title(\"Test data\");"
   ]
  },
  {
   "cell_type": "code",
   "execution_count": null,
   "id": "ef7b2461",
   "metadata": {},
   "outputs": [],
   "source": [
    "data_percentage_array = np.linspace(10, 100, 10)\n"
   ]
  },
  {
   "cell_type": "code",
   "execution_count": null,
   "id": "de32242e",
   "metadata": {},
   "outputs": [],
   "source": [
    "train_error = []\n",
    "test_error = []\n",
    "for data_percentage in data_percentage_array:\n",
    "    model = DecisionTreeRegressor(max_depth=10)\n",
    "    number_of_samples = int(data_percentage / 100. * len(train_y))\n",
    "    model.fit(train_X[:number_of_samples,:], train_y[:number_of_samples])\n",
    "\n",
    "    predicted_train_y = model.predict(train_X)\n",
    "    predicted_test_y = model.predict(test_X)\n",
    "\n",
    "    train_error.append((predicted_train_y - train_y).std())\n",
    "    test_error.append((predicted_test_y - test_y).std())"
   ]
  },
  {
   "cell_type": "code",
   "execution_count": null,
   "id": "eccc35b6",
   "metadata": {},
   "outputs": [],
   "source": [
    "\n",
    "plt.plot(data_percentage_array, train_error, label='training')\n",
    "plt.plot(data_percentage_array, test_error, label='validation')\n",
    "plt.grid()\n",
    "plt.legend(loc=3)\n",
    "plt.xlabel('Data percentage')\n",
    "plt.ylabel('Root mean square error');"
   ]
  },
  {
   "cell_type": "code",
   "execution_count": null,
   "id": "d5018e0b",
   "metadata": {},
   "outputs": [],
   "source": [
    "from sklearn.ensemble import RandomForestRegressor\n",
    "model = RandomForestRegressor(n_estimators=5)\n",
    "model.fit(train_X, train_y)\n",
    "predicted_test_y = model.predict(test_X)\n",
    "rms_random_forest = scatter_y(test_y, predicted_test_y)"
   ]
  },
  {
   "cell_type": "code",
   "execution_count": null,
   "id": "4e1ea5eb",
   "metadata": {},
   "outputs": [],
   "source": [
    "print(\"Root Mean Square error decreases from %.2g to %.2g.\" % (rms_decision_tree, rms_random_forest))\n"
   ]
  },
  {
   "cell_type": "code",
   "execution_count": null,
   "id": "e11320ba",
   "metadata": {},
   "outputs": [],
   "source": [
    "print(\"Root Mean Square error decreases from %.2g to %.2g.\" % (rms_decision_tree, rms_random_forest))\n"
   ]
  },
  {
   "cell_type": "code",
   "execution_count": null,
   "id": "2c82585e",
   "metadata": {},
   "outputs": [],
   "source": [
    "from sklearn.grid_search import RandomizedSearchCV\n",
    "grid = RandomizedSearchCV(model, n_iter=20, \n",
    "            param_distributions=dict(\n",
    "                                          max_depth=np.arange(5,20+1), \n",
    "                                          max_features=np.arange(1, n_features+1)\n",
    "                                    )\n",
    "         )\n",
    "grid.fit(X, y)\n",
    "print(grid.best_params_)"
   ]
  },
  {
   "cell_type": "code",
   "execution_count": null,
   "id": "88654174",
   "metadata": {},
   "outputs": [],
   "source": [
    "model = RandomForestRegressor(max_features=grid.best_params_[\"max_features\"],\n",
    "                              max_depth=grid.best_params_[\"max_depth\"])\n",
    "model.fit(train_X, train_y)\n",
    "predicted_test_y = model.predict(test_X)\n",
    "rms_optimized_random_forest = scatter_y(test_y, predicted_test_y)\n"
   ]
  },
  {
   "cell_type": "code",
   "execution_count": null,
   "id": "7d837f84",
   "metadata": {},
   "outputs": [],
   "source": [
    "print(\"Root Mean Square error decreases from %.2g to %.2g.\" % (rms_random_forest, rms_optimized_random_forest))\n"
   ]
  }
 ],
 "metadata": {
  "kernelspec": {
   "display_name": "Python 3",
   "language": "python",
   "name": "python3"
  },
  "language_info": {
   "codemirror_mode": {
    "name": "ipython",
    "version": 3
   },
   "file_extension": ".py",
   "mimetype": "text/x-python",
   "name": "python",
   "nbconvert_exporter": "python",
   "pygments_lexer": "ipython3",
   "version": "3.8.8"
  }
 },
 "nbformat": 4,
 "nbformat_minor": 5
}
